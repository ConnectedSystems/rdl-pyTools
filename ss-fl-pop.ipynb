{
  "nbformat": 4,
  "nbformat_minor": 0,
  "metadata": {
    "colab": {
      "name": "Flood_analysis.ipynb",
      "provenance": [],
      "collapsed_sections": [],
      "toc_visible": true
    },
    "kernelspec": {
      "name": "python3",
      "display_name": "Python 3",
      "language": "python"
    },
    "language_info": {
      "name": "python",
      "version": "3.7.9",
      "mimetype": "text/x-python",
      "codemirror_mode": {
        "name": "ipython",
        "version": 3
      },
      "pygments_lexer": "ipython3",
      "nbconvert_exporter": "python",
      "file_extension": ".py"
    }
  },
  "cells": [
    {
      "cell_type": "markdown",
      "metadata": {
        "id": "_4lzB9IWsAHH"
      },
      "source": [
        "# This notebook includes a simple demo for flood risk assessment\n",
        "\n",
        "## It uses flood hazard water depth scenario RP100 and population map for 2018"
      ]
    },
    {
      "cell_type": "code",
      "metadata": {
        "colab": {
          "base_uri": "https://localhost:8080/"
        },
        "id": "-cZaIbbgPD9U",
        "trusted": false,
        "outputId": "c3dc597e-29fb-4c3e-e0d6-025157589ed6"
      },
      "source": [
        "# Added to requirements.txt, but need to specify version? Then remove here\n",
        "!pip -q install geopandas\n",
        "!apt -q install libspatialindex-dev\n",
        "!pip -q install osmnx\n",
        "!pip -q install rasterio\n",
        "!pip -q install rasterstats\n",
        "!pip -q install geojson"
      ],
      "execution_count": 1,
      "outputs": [
        {
          "output_type": "stream",
          "text": [
            "Reading package lists...\n",
            "Building dependency tree...\n",
            "Reading state information...\n",
            "libspatialindex-dev is already the newest version (1.8.5-5).\n",
            "0 upgraded, 0 newly installed, 0 to remove and 29 not upgraded.\n"
          ],
          "name": "stdout"
        }
      ]
    },
    {
      "cell_type": "code",
      "metadata": {
        "colab": {
          "base_uri": "https://localhost:8080/"
        },
        "id": "fgEbiWiWvaVi",
        "outputId": "d699d800-f943-45d1-fc91-206caaab1589"
      },
      "source": [
        "# !git clone https://github.com/gfdrr/rdl-pytools.git\r\n",
        "!cd rdl-pytools && git pull origin main"
      ],
      "execution_count": 5,
      "outputs": [
        {
          "output_type": "stream",
          "text": [
            "remote: Enumerating objects: 14, done.\u001b[K\n",
            "remote: Counting objects:   7% (1/14)\u001b[K\rremote: Counting objects:  14% (2/14)\u001b[K\rremote: Counting objects:  21% (3/14)\u001b[K\rremote: Counting objects:  28% (4/14)\u001b[K\rremote: Counting objects:  35% (5/14)\u001b[K\rremote: Counting objects:  42% (6/14)\u001b[K\rremote: Counting objects:  50% (7/14)\u001b[K\rremote: Counting objects:  57% (8/14)\u001b[K\rremote: Counting objects:  64% (9/14)\u001b[K\rremote: Counting objects:  71% (10/14)\u001b[K\rremote: Counting objects:  78% (11/14)\u001b[K\rremote: Counting objects:  85% (12/14)\u001b[K\rremote: Counting objects:  92% (13/14)\u001b[K\rremote: Counting objects: 100% (14/14)\u001b[K\rremote: Counting objects: 100% (14/14), done.\u001b[K\n",
            "remote: Compressing objects: 100% (7/7), done.\u001b[K\n",
            "remote: Total 10 (delta 3), reused 7 (delta 2), pack-reused 0\u001b[K\n",
            "Unpacking objects: 100% (10/10), done.\n",
            "From https://github.com/gfdrr/rdl-pytools\n",
            " * branch            main       -> FETCH_HEAD\n",
            "   11fecfc..18d556d  main       -> origin/main\n",
            "Updating 11fecfc..18d556d\n",
            "Fast-forward\n",
            " data/ssudan/hzd-ss-fl-rp100.cpg |   1 \u001b[32m+\u001b[m\n",
            " data/ssudan/hzd-ss-fl-rp100.dbf | Bin \u001b[31m0\u001b[m -> \u001b[32m715426\u001b[m bytes\n",
            " data/ssudan/hzd-ss-fl-rp100.prj |   1 \u001b[32m+\u001b[m\n",
            " data/ssudan/hzd-ss-fl-rp100.shp | Bin \u001b[31m0\u001b[m -> \u001b[32m14079088\u001b[m bytes\n",
            " data/ssudan/hzd-ss-fl-rp100.shx | Bin \u001b[31m0\u001b[m -> \u001b[32m572388\u001b[m bytes\n",
            " ss-fl-pop.ipynb                 | 783 \u001b[32m+++++++++++++++++++++++++++++++++++++++\u001b[m\u001b[31m-\u001b[m\n",
            " 6 files changed, 784 insertions(+), 1 deletion(-)\n",
            " create mode 100644 data/ssudan/hzd-ss-fl-rp100.cpg\n",
            " create mode 100644 data/ssudan/hzd-ss-fl-rp100.dbf\n",
            " create mode 100644 data/ssudan/hzd-ss-fl-rp100.prj\n",
            " create mode 100644 data/ssudan/hzd-ss-fl-rp100.shp\n",
            " create mode 100644 data/ssudan/hzd-ss-fl-rp100.shx\n"
          ],
          "name": "stdout"
        }
      ]
    },
    {
      "cell_type": "markdown",
      "metadata": {
        "id": "x7t8A3YBsAHO"
      },
      "source": [
        "### Import required libraries"
      ]
    },
    {
      "cell_type": "code",
      "metadata": {
        "trusted": false,
        "id": "bBVMg5-HsAHO"
      },
      "source": [
        "# Required libraries\n",
        "import tempfile\n",
        "\n",
        "import numpy as np\n",
        "import pandas as pd\n",
        "import geopandas as gpd\n",
        "\n",
        "import rasterio\n",
        "import rasterio.mask\n",
        "from rasterio.enums import Resampling\n",
        "from rasterio.plot import show\n",
        "\n",
        "from rasterstats import zonal_stats, utils\n",
        "\n",
        "import gdal, gdalconst\n",
        "from osgeo import ogr, osr\n",
        "from shapely import wkb\n",
        "from matplotlib import pyplot\n",
        "from shapely.geometry import shape\n",
        "\n"
      ],
      "execution_count": 7,
      "outputs": []
    },
    {
      "cell_type": "markdown",
      "metadata": {
        "id": "qpPrHqn_sAHT"
      },
      "source": [
        "### Load input data: flood hazard (RP100) and population (Landscan 2018)\n",
        "\n",
        "All data already share the same crs (epsg 4326)"
      ]
    },
    {
      "cell_type": "code",
      "metadata": {
        "id": "Gto7NCHCKj6_",
        "trusted": false
      },
      "source": [
        "base_loc = \"rdl-pytools/data/ssudan/\"\n",
        "\n",
        "#pop represents population data\n",
        "with rasterio.open(base_loc+'exp-ss-pop-landscan18.tif') as fp:\n",
        "  pop_data = fp.read(1)\n",
        "\n",
        "\n",
        "scale_factor = 0.1\n",
        "with rasterio.open(base_loc+'hzd-ss-fl-rp100.tif') as dataset:\n",
        "  # resample data to population data resolution\n",
        "  data = dataset.read(\n",
        "      out_shape=(\n",
        "          dataset.count,\n",
        "          int(fp.height),\n",
        "          int(fp.width)\n",
        "      ),\n",
        "      resampling=Resampling.bilinear\n",
        "  )\n",
        "\n",
        "  # scale image transform\n",
        "  transform = dataset.transform * dataset.transform.scale(\n",
        "      (dataset.width / pop_data.shape[-1]),\n",
        "      (dataset.height / pop_data.shape[-2])\n",
        "  )\n",
        "\n",
        "flood_data = data[0, :, :]\n",
        "\n"
      ],
      "execution_count": 15,
      "outputs": []
    },
    {
      "cell_type": "code",
      "metadata": {
        "id": "46FOO1U93muD"
      },
      "source": [
        "flood_extent = gpd.read_file(base_loc+\"hzd-ss-fl-rp100.shp\")"
      ],
      "execution_count": 16,
      "outputs": []
    },
    {
      "cell_type": "code",
      "metadata": {
        "colab": {
          "base_uri": "https://localhost:8080/"
        },
        "id": "b0TNNDWj2sqb",
        "outputId": "4ffe3e49-0a92-450b-ce3d-84c2d43ac654"
      },
      "source": [
        "# Flood resolution and population data resolution should match\r\n",
        "flood_data.shape == pop_data.shape"
      ],
      "execution_count": 19,
      "outputs": [
        {
          "output_type": "execute_result",
          "data": {
            "text/plain": [
              "True"
            ]
          },
          "metadata": {
            "tags": []
          },
          "execution_count": 19
        }
      ]
    },
    {
      "cell_type": "code",
      "metadata": {
        "id": "y7hDzdK_25zW"
      },
      "source": [
        "#adm2 represents administrative units\r\n",
        "adm0 = gpd.read_file(base_loc+'SS_ADM0.shp')\r\n",
        "adm1 = gpd.read_file(base_loc+'SS_ADM1.shp')\r\n",
        "adm2 = gpd.read_file(base_loc+'SS_ADM2.shp')"
      ],
      "execution_count": 20,
      "outputs": []
    },
    {
      "cell_type": "markdown",
      "metadata": {
        "id": "aUuIjKwLsAHU"
      },
      "source": [
        "## 1. Flooded area"
      ]
    },
    {
      "cell_type": "code",
      "metadata": {
        "trusted": true,
        "colab": {
          "base_uri": "https://localhost:8080/",
          "height": 80
        },
        "id": "G5F5O_mEsAHU",
        "outputId": "642c3293-b7cf-4327-bb99-0f7352399aff"
      },
      "source": [
        "target_adm = adm1\n",
        "\n",
        "flood_crs = \"EPSG:4326\"\n",
        "\n",
        "target = target.to_crs(flood_crs)\n",
        "\n",
        "# flood_dict = {\n",
        "#     0:'non-flooded',\n",
        "#     1:\"flooded\"\n",
        "# }\n",
        "\n",
        "target\n",
        "\n",
        "# zs = pd.DataFrame(zonal_stats(target, flood_data, affine=meta['transform'], categorical=True, category_map=flood_dict))\n",
        "# area.head()"
      ],
      "execution_count": 26,
      "outputs": [
        {
          "output_type": "execute_result",
          "data": {
            "text/html": [
              "<div>\n",
              "<style scoped>\n",
              "    .dataframe tbody tr th:only-of-type {\n",
              "        vertical-align: middle;\n",
              "    }\n",
              "\n",
              "    .dataframe tbody tr th {\n",
              "        vertical-align: top;\n",
              "    }\n",
              "\n",
              "    .dataframe thead th {\n",
              "        text-align: right;\n",
              "    }\n",
              "</style>\n",
              "<table border=\"1\" class=\"dataframe\">\n",
              "  <thead>\n",
              "    <tr style=\"text-align: right;\">\n",
              "      <th></th>\n",
              "      <th>ADM0_EN</th>\n",
              "      <th>ADM0_PCODE</th>\n",
              "      <th>ADM0_REF</th>\n",
              "      <th>po18sum</th>\n",
              "      <th>sum</th>\n",
              "      <th>geometry</th>\n",
              "    </tr>\n",
              "  </thead>\n",
              "  <tbody>\n",
              "    <tr>\n",
              "      <th>0</th>\n",
              "      <td>South Sudan</td>\n",
              "      <td>SS</td>\n",
              "      <td>None</td>\n",
              "      <td>1.436904e+07</td>\n",
              "      <td>6.037584e+06</td>\n",
              "      <td>POLYGON ((33.89957 10.16584, 33.90147 10.16155...</td>\n",
              "    </tr>\n",
              "  </tbody>\n",
              "</table>\n",
              "</div>"
            ],
            "text/plain": [
              "       ADM0_EN  ...                                           geometry\n",
              "0  South Sudan  ...  POLYGON ((33.89957 10.16584, 33.90147 10.16155...\n",
              "\n",
              "[1 rows x 6 columns]"
            ]
          },
          "metadata": {
            "tags": []
          },
          "execution_count": 26
        }
      ]
    },
    {
      "cell_type": "markdown",
      "metadata": {
        "id": "IPZDVoupsAHV"
      },
      "source": [
        "### Export output"
      ]
    },
    {
      "cell_type": "code",
      "metadata": {
        "trusted": true,
        "id": "uG18hkIVsAHV"
      },
      "source": [
        "# area.to_csv(os.path.join(out_folder, \"area_flooded.csv\"))"
      ],
      "execution_count": 27,
      "outputs": []
    },
    {
      "cell_type": "code",
      "metadata": {
        "trusted": true,
        "id": "Wp2Ni4hMsAHV"
      },
      "source": [
        "# out_folder = os.path.join(data_dir, \"output\")\n",
        "# if not os.path.exists(out_folder):\n",
        "#     os.mkdir(out_folder)"
      ],
      "execution_count": 28,
      "outputs": []
    },
    {
      "cell_type": "markdown",
      "metadata": {
        "id": "o-cJQo9wsAHW"
      },
      "source": [
        "## 2. Flooded population"
      ]
    },
    {
      "cell_type": "markdown",
      "metadata": {
        "id": "P29nPHeBsAHW"
      },
      "source": [
        "### Create flood hazard extent mask using a threshold of 15 cm"
      ]
    },
    {
      "cell_type": "code",
      "metadata": {
        "trusted": true,
        "id": "jNUENvN_sAHW"
      },
      "source": [
        "# Get flooded areas\n",
        "flood_mask = np.where(flood_data > 0.15, 1, 0)"
      ],
      "execution_count": 21,
      "outputs": []
    },
    {
      "cell_type": "code",
      "metadata": {
        "colab": {
          "base_uri": "https://localhost:8080/"
        },
        "id": "lf0lYBI81Jl9",
        "outputId": "b92f66d2-4657-4d9a-9b63-3e9a92ba8cbb"
      },
      "source": [
        "# Flood mask should match population data resolution\r\n",
        "flood_mask.shape == pop_data.shape"
      ],
      "execution_count": 24,
      "outputs": [
        {
          "output_type": "execute_result",
          "data": {
            "text/plain": [
              "True"
            ]
          },
          "metadata": {
            "tags": []
          },
          "execution_count": 24
        }
      ]
    },
    {
      "cell_type": "markdown",
      "metadata": {
        "id": "W8FxzJrEsAHW"
      },
      "source": [
        "### Estimate population within hazard extent and plot as map"
      ]
    },
    {
      "cell_type": "code",
      "metadata": {
        "trusted": true,
        "id": "e_hCSbSlsAHW"
      },
      "source": [
        "pop_fd = flood_mask * pop_data"
      ],
      "execution_count": 42,
      "outputs": []
    },
    {
      "cell_type": "code",
      "metadata": {
        "id": "6FnKfWxJ82ja",
        "outputId": "cc638f9e-58f3-4ce3-f8bb-a45dbc58026c",
        "colab": {
          "base_uri": "https://localhost:8080/",
          "height": 282
        }
      },
      "source": [
        "adm2.plot()"
      ],
      "execution_count": 27,
      "outputs": [
        {
          "output_type": "execute_result",
          "data": {
            "text/plain": [
              "<AxesSubplot:>"
            ]
          },
          "metadata": {
            "tags": []
          },
          "execution_count": 27
        },
        {
          "output_type": "display_data",
          "data": {
            "image/png": "[encoded data removed]",
            "text/plain": [
              "<Figure size 432x288 with 1 Axes>"
            ]
          },
          "metadata": {
            "tags": [],
            "needs_background": "light"
          }
        }
      ]
    },
    {
      "cell_type": "markdown",
      "metadata": {
        "id": "5QBMAjCkAYdU"
      },
      "source": [
        "Summary for ADM2 level - zonal statistics"
      ]
    },
    {
      "cell_type": "code",
      "metadata": {
        "trusted": true,
        "id": "Wn741jAfsAHX"
      },
      "source": [
        "def collect_stats(src_file, shp, target_data, stats):\n",
        "  # Write flood population raster to temporary file\n",
        "  temp = tempfile.NamedTemporaryFile(suffix=\".tiff\")\n",
        "\n",
        "  # Need source data information so that outputted data profile matches\n",
        "  with rasterio.open(src_file) as src:\n",
        "    with rasterio.Env():\n",
        "      profile = src.profile\n",
        "\n",
        "      # band count = 1, dtype to int32, and use LZW compression\n",
        "      profile.update(\n",
        "          dtype=rasterio.int32,\n",
        "          count=1,\n",
        "          compress='lzw')\n",
        "\n",
        "      # Write out to the temporary file\n",
        "      with rasterio.open(temp.name, 'w', **profile) as dst:\n",
        "        dst.write(target_data.astype(rasterio.int32), 1)\n",
        "\n",
        "    # Perform zonal statistics on temporary file using the ADM2 shapefile\n",
        "    stats = zonal_stats(shp,\n",
        "                        temp.name,\n",
        "                        stats=stats)\n",
        "    \n",
        "    return stats"
      ],
      "execution_count": 43,
      "outputs": []
    },
    {
      "cell_type": "code",
      "metadata": {
        "id": "fqBuVNWfB8hE"
      },
      "source": [
        "adm2_stats = collect_stats(base_loc+'hzd-ss-fl-rp100.tif', base_loc+'SS_ADM2.shp', pop_fd, stats=\"sum\")"
      ],
      "execution_count": null,
      "outputs": []
    },
    {
      "cell_type": "code",
      "metadata": {
        "id": "US5TisSuB0-x"
      },
      "source": [
        "adm1_stats = collect_stats(base_loc+'hzd-ss-fl-rp100.tif', base_loc+'SS_ADM1.shp', pop_fd, stats=\"sum\")"
      ],
      "execution_count": 44,
      "outputs": []
    },
    {
      "cell_type": "code",
      "metadata": {
        "id": "h1UuP8_bB-hn",
        "outputId": "2cad4940-2a41-4e86-e7d1-459dfa9b04ba",
        "colab": {
          "base_uri": "https://localhost:8080/"
        }
      },
      "source": [
        "adm1_stats"
      ],
      "execution_count": 45,
      "outputs": [
        {
          "output_type": "execute_result",
          "data": {
            "text/plain": [
              "[{'sum': 127898080.0},\n",
              " {'sum': 103867391.0},\n",
              " {'sum': 404451153.0},\n",
              " {'sum': 16202865.0},\n",
              " {'sum': 3713715.0},\n",
              " {'sum': 16587596.0},\n",
              " {'sum': 97421794.0},\n",
              " {'sum': 2525839.0},\n",
              " {'sum': 12752387.0},\n",
              " {'sum': 49035478.0}]"
            ]
          },
          "metadata": {
            "tags": []
          },
          "execution_count": 45
        }
      ]
    },
    {
      "cell_type": "code",
      "metadata": {
        "id": "qDI6_LMqCQCW"
      },
      "source": [
        ""
      ],
      "execution_count": null,
      "outputs": []
    },
    {
      "cell_type": "code",
      "metadata": {
        "trusted": false,
        "id": "weqofv3HsAHX"
      },
      "source": [
        "# population affected for each ADM2 unit\n",
        "target = target.to_crs(pop_crs)\n",
        "zs_landscan = pd.DataFrame(zonal_stats(target, pop_fd, affine=landscan.meta['transform'], stats='sum')).rename(columns = {'sum':'pop_flooded_rp100'})\n",
        "\n",
        "plot = results shown as map and as table"
      ],
      "execution_count": null,
      "outputs": []
    },
    {
      "cell_type": "code",
      "metadata": {
        "trusted": true,
        "id": "RX77-C1IsAHY"
      },
      "source": [
        ""
      ],
      "execution_count": null,
      "outputs": []
    },
    {
      "cell_type": "markdown",
      "metadata": {
        "id": "YbzupIpVsAHY"
      },
      "source": [
        "### Export output"
      ]
    },
    {
      "cell_type": "code",
      "metadata": {
        "trusted": false,
        "id": "gTg15Za-sAHY"
      },
      "source": [
        "area.to_csv(os.path.join(out_folder, \"pop_flooded_rp100.csv\"))"
      ],
      "execution_count": null,
      "outputs": []
    },
    {
      "cell_type": "code",
      "metadata": {
        "trusted": false,
        "id": "pYXHNlElsAHY"
      },
      "source": [
        "out_folder = os.path.join(data_dir, \"output\")\n",
        "if not os.path.exists(out_folder):\n",
        "    os.mkdir(out_folder)"
      ],
      "execution_count": null,
      "outputs": []
    },
    {
      "cell_type": "code",
      "metadata": {
        "trusted": true,
        "id": "FDSDkC5GsAHZ"
      },
      "source": [
        ""
      ],
      "execution_count": null,
      "outputs": []
    }
  ]
}