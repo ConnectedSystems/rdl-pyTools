{
  "nbformat": 4,
  "nbformat_minor": 0,
  "metadata": {
    "colab": {
      "name": "Flood_analysis.ipynb",
      "provenance": [],
      "collapsed_sections": [],
      "toc_visible": true
    },
    "kernelspec": {
      "name": "python3",
      "display_name": "Python 3",
      "language": "python"
    },
    "language_info": {
      "name": "python",
      "version": "3.7.9",
      "mimetype": "text/x-python",
      "codemirror_mode": {
        "name": "ipython",
        "version": 3
      },
      "pygments_lexer": "ipython3",
      "nbconvert_exporter": "python",
      "file_extension": ".py"
    }
  },
  "cells": [
    {
      "cell_type": "markdown",
      "metadata": {
        "id": "_4lzB9IWsAHH"
      },
      "source": [
        "# This notebook includes a simple demo for flood risk assessment\n",
        "\n",
        "## It uses flood hazard water depth scenario RP100 and population map for 2018"
      ]
    },
    {
      "cell_type": "code",
      "metadata": {
        "colab": {
          "base_uri": "https://localhost:8080/"
        },
        "id": "-cZaIbbgPD9U",
        "trusted": false,
        "outputId": "9a61377b-866d-4719-9e72-5bce3206ad21"
      },
      "source": [
        "# Added to requirements.txt, but need to specify version? Then remove here\n",
        "!pip -q install geopandas\n",
        "!apt -q install libspatialindex-dev\n",
        "!pip -q install osmnx\n",
        "!pip -q install rasterio\n",
        "!pip -q install rasterstats\n",
        "!pip -q install geojson"
      ],
      "execution_count": 1,
      "outputs": [
        {
          "output_type": "stream",
          "text": [
            "Reading package lists...\n",
            "Building dependency tree...\n",
            "Reading state information...\n",
            "libspatialindex-dev is already the newest version (1.8.5-5).\n",
            "0 upgraded, 0 newly installed, 0 to remove and 29 not upgraded.\n"
          ],
          "name": "stdout"
        }
      ]
    },
    {
      "cell_type": "code",
      "metadata": {
        "id": "fgEbiWiWvaVi",
        "outputId": "d00016e4-f809-47dc-bc7d-02e510b44ad1",
        "colab": {
          "base_uri": "https://localhost:8080/"
        }
      },
      "source": [
        "!git clone https://github.com/gfdrr/rdl-pytools.git"
      ],
      "execution_count": 6,
      "outputs": [
        {
          "output_type": "stream",
          "text": [
            "Cloning into 'rdl-pytools'...\n",
            "remote: Enumerating objects: 16, done.\u001b[K\n",
            "remote: Counting objects: 100% (16/16), done.\u001b[K\n",
            "remote: Compressing objects: 100% (10/10), done.\u001b[K\n",
            "remote: Total 62 (delta 6), reused 13 (delta 5), pack-reused 46\u001b[K\n",
            "Unpacking objects: 100% (62/62), done.\n"
          ],
          "name": "stdout"
        }
      ]
    },
    {
      "cell_type": "markdown",
      "metadata": {
        "id": "x7t8A3YBsAHO"
      },
      "source": [
        "### Import required libraries"
      ]
    },
    {
      "cell_type": "code",
      "metadata": {
        "trusted": false,
        "id": "bBVMg5-HsAHO"
      },
      "source": [
        "# Required libraries\n",
        "import numpy as np\n",
        "import pandas as pd\n",
        "import geopandas as gpd\n",
        "\n",
        "import rasterio\n",
        "import rasterio.mask\n",
        "from rasterio.enums import Resampling\n",
        "from rasterio.plot import show\n",
        "\n",
        "from rasterstats import zonal_stats, utils\n",
        "\n",
        "import gdal, gdalconst\n",
        "from osgeo import ogr, osr\n",
        "from shapely import wkb\n",
        "from matplotlib import pyplot\n",
        "from shapely.geometry import shape\n",
        "\n"
      ],
      "execution_count": 36,
      "outputs": []
    },
    {
      "cell_type": "markdown",
      "metadata": {
        "id": "dDKGTtU6sAHS"
      },
      "source": [
        "Do we need this class stuff?"
      ]
    },
    {
      "cell_type": "code",
      "metadata": {
        "id": "qlEULg7uGpNQ",
        "trusted": false
      },
      "source": [
        "# #class to work with tiff datasets\n",
        "# class Raster:\n",
        "    \n",
        "#     def __init__(self, filename):\n",
        "#         self.filename = filename\n",
        "#     #get data using bounding box\n",
        "#     def dataFromBounds(self, band, bounds):\n",
        "#         with rasterio.open(self.filename) as src:\n",
        "#             self.noData = src.nodatavals[0]\n",
        "#             window = rasterio.windows.from_bounds(bounds[0],bounds[1],bounds[2],bounds[3], src.transform)\n",
        "#             self.boundsData = src.read(band, window=window)\n",
        "#             self.boundsTransform = src.window_transform(window)\n",
        "#     #get data using polygon for masking\n",
        "#     def dataFromShape(self,band,shape):\n",
        "#         with rasterio.open(self.filename) as src:\n",
        "#             self.noData = src.nodatavals[0]\n",
        "#             self.maskData, self.maskTransform = rasterio.mask.mask(src, [shape], crop=True, nodata=0)\n",
        "#             self.maskData = self.maskData[band-1, :, :]\n"
      ],
      "execution_count": 8,
      "outputs": []
    },
    {
      "cell_type": "markdown",
      "metadata": {
        "id": "qpPrHqn_sAHT"
      },
      "source": [
        "### Load input data: flood hazard (RP100) and population (Landscan 2018)\n",
        "\n",
        "All data already share the same crs (epsg 4326)"
      ]
    },
    {
      "cell_type": "code",
      "metadata": {
        "id": "Gto7NCHCKj6_",
        "trusted": false
      },
      "source": [
        "base_loc = \"rdl-pytools/data/ssudan/\"\n",
        "\n",
        "#pop represents population data\n",
        "with rasterio.open(base_loc+'exp-ss-pop-landscan18.tif') as fp:\n",
        "  pop_data = fp.read(1)\n",
        "\n",
        "\n",
        "scale_factor = 0.1\n",
        "with rasterio.open(base_loc+'hzd-ss-fl-rp100.tif') as dataset:\n",
        "  # resample data to target shape\n",
        "  data = dataset.read(\n",
        "      out_shape=(\n",
        "          dataset.count,\n",
        "          int(dataset.height * scale_factor),\n",
        "          int(dataset.width * scale_factor)\n",
        "      ),\n",
        "      resampling=Resampling.bilinear\n",
        "  )\n",
        "\n",
        "  # scale image transform\n",
        "  transform = dataset.transform * dataset.transform.scale(\n",
        "      (dataset.width / data.shape[-1]),\n",
        "      (dataset.height / data.shape[-2])\n",
        "  )\n",
        "\n",
        "flood_data = data\n",
        "\n"
      ],
      "execution_count": 54,
      "outputs": []
    },
    {
      "cell_type": "code",
      "metadata": {
        "id": "46FOO1U93muD",
        "outputId": "6c77d5d4-1179-448c-b4ee-2768e66ff70c",
        "colab": {
          "base_uri": "https://localhost:8080/",
          "height": 544
        }
      },
      "source": [
        "flood_extent = gpd.read_file(base_url+\"hzd-ss-fl-rp100.shp\")"
      ],
      "execution_count": 55,
      "outputs": [
        {
          "output_type": "error",
          "ename": "DriverError",
          "evalue": "ignored",
          "traceback": [
            "\u001b[0;31m---------------------------------------------------------------------------\u001b[0m",
            "\u001b[0;31mCPLE_OpenFailedError\u001b[0m                      Traceback (most recent call last)",
            "\u001b[0;32mfiona/_shim.pyx\u001b[0m in \u001b[0;36mfiona._shim.gdal_open_vector\u001b[0;34m()\u001b[0m\n",
            "\u001b[0;32mfiona/_err.pyx\u001b[0m in \u001b[0;36mfiona._err.exc_wrap_pointer\u001b[0;34m()\u001b[0m\n",
            "\u001b[0;31mCPLE_OpenFailedError\u001b[0m: '/vsimem/0a6a5792cdf94481915a66e4e3da78fc' not recognized as a supported file format.",
            "\nDuring handling of the above exception, another exception occurred:\n",
            "\u001b[0;31mDriverError\u001b[0m                               Traceback (most recent call last)",
            "\u001b[0;32m<ipython-input-55-0528b7546ce4>\u001b[0m in \u001b[0;36m<module>\u001b[0;34m()\u001b[0m\n\u001b[0;32m----> 1\u001b[0;31m \u001b[0mflood_extent\u001b[0m \u001b[0;34m=\u001b[0m \u001b[0mgpd\u001b[0m\u001b[0;34m.\u001b[0m\u001b[0mread_file\u001b[0m\u001b[0;34m(\u001b[0m\u001b[0mbase_url\u001b[0m\u001b[0;34m+\u001b[0m\u001b[0;34m\"hzd-ss-fl-rp100.shp\"\u001b[0m\u001b[0;34m)\u001b[0m\u001b[0;34m\u001b[0m\u001b[0;34m\u001b[0m\u001b[0m\n\u001b[0m",
            "\u001b[0;32m/usr/local/lib/python3.7/dist-packages/geopandas/io/file.py\u001b[0m in \u001b[0;36m_read_file\u001b[0;34m(filename, bbox, mask, rows, **kwargs)\u001b[0m\n\u001b[1;32m    158\u001b[0m \u001b[0;34m\u001b[0m\u001b[0m\n\u001b[1;32m    159\u001b[0m     \u001b[0;32mwith\u001b[0m \u001b[0mfiona_env\u001b[0m\u001b[0;34m(\u001b[0m\u001b[0;34m)\u001b[0m\u001b[0;34m:\u001b[0m\u001b[0;34m\u001b[0m\u001b[0;34m\u001b[0m\u001b[0m\n\u001b[0;32m--> 160\u001b[0;31m         \u001b[0;32mwith\u001b[0m \u001b[0mreader\u001b[0m\u001b[0;34m(\u001b[0m\u001b[0mpath_or_bytes\u001b[0m\u001b[0;34m,\u001b[0m \u001b[0;34m**\u001b[0m\u001b[0mkwargs\u001b[0m\u001b[0;34m)\u001b[0m \u001b[0;32mas\u001b[0m \u001b[0mfeatures\u001b[0m\u001b[0;34m:\u001b[0m\u001b[0;34m\u001b[0m\u001b[0;34m\u001b[0m\u001b[0m\n\u001b[0m\u001b[1;32m    161\u001b[0m \u001b[0;34m\u001b[0m\u001b[0m\n\u001b[1;32m    162\u001b[0m             \u001b[0;31m# In a future Fiona release the crs attribute of features will\u001b[0m\u001b[0;34m\u001b[0m\u001b[0;34m\u001b[0m\u001b[0;34m\u001b[0m\u001b[0m\n",
            "\u001b[0;32m/usr/local/lib/python3.7/dist-packages/fiona/collection.py\u001b[0m in \u001b[0;36m__init__\u001b[0;34m(self, bytesbuf, **kwds)\u001b[0m\n\u001b[1;32m    554\u001b[0m         \u001b[0;31m# Instantiate the parent class.\u001b[0m\u001b[0;34m\u001b[0m\u001b[0;34m\u001b[0m\u001b[0;34m\u001b[0m\u001b[0m\n\u001b[1;32m    555\u001b[0m         super(BytesCollection, self).__init__(self.virtual_file, vsi=filetype,\n\u001b[0;32m--> 556\u001b[0;31m                                               encoding='utf-8', **kwds)\n\u001b[0m\u001b[1;32m    557\u001b[0m \u001b[0;34m\u001b[0m\u001b[0m\n\u001b[1;32m    558\u001b[0m     \u001b[0;32mdef\u001b[0m \u001b[0mclose\u001b[0m\u001b[0;34m(\u001b[0m\u001b[0mself\u001b[0m\u001b[0;34m)\u001b[0m\u001b[0;34m:\u001b[0m\u001b[0;34m\u001b[0m\u001b[0;34m\u001b[0m\u001b[0m\n",
            "\u001b[0;32m/usr/local/lib/python3.7/dist-packages/fiona/collection.py\u001b[0m in \u001b[0;36m__init__\u001b[0;34m(self, path, mode, driver, schema, crs, encoding, layer, vsi, archive, enabled_drivers, crs_wkt, ignore_fields, ignore_geometry, **kwargs)\u001b[0m\n\u001b[1;32m    160\u001b[0m             \u001b[0;32mif\u001b[0m \u001b[0mself\u001b[0m\u001b[0;34m.\u001b[0m\u001b[0mmode\u001b[0m \u001b[0;34m==\u001b[0m \u001b[0;34m'r'\u001b[0m\u001b[0;34m:\u001b[0m\u001b[0;34m\u001b[0m\u001b[0;34m\u001b[0m\u001b[0m\n\u001b[1;32m    161\u001b[0m                 \u001b[0mself\u001b[0m\u001b[0;34m.\u001b[0m\u001b[0msession\u001b[0m \u001b[0;34m=\u001b[0m \u001b[0mSession\u001b[0m\u001b[0;34m(\u001b[0m\u001b[0;34m)\u001b[0m\u001b[0;34m\u001b[0m\u001b[0;34m\u001b[0m\u001b[0m\n\u001b[0;32m--> 162\u001b[0;31m                 \u001b[0mself\u001b[0m\u001b[0;34m.\u001b[0m\u001b[0msession\u001b[0m\u001b[0;34m.\u001b[0m\u001b[0mstart\u001b[0m\u001b[0;34m(\u001b[0m\u001b[0mself\u001b[0m\u001b[0;34m,\u001b[0m \u001b[0;34m**\u001b[0m\u001b[0mkwargs\u001b[0m\u001b[0;34m)\u001b[0m\u001b[0;34m\u001b[0m\u001b[0;34m\u001b[0m\u001b[0m\n\u001b[0m\u001b[1;32m    163\u001b[0m             \u001b[0;32melif\u001b[0m \u001b[0mself\u001b[0m\u001b[0;34m.\u001b[0m\u001b[0mmode\u001b[0m \u001b[0;32min\u001b[0m \u001b[0;34m(\u001b[0m\u001b[0;34m'a'\u001b[0m\u001b[0;34m,\u001b[0m \u001b[0;34m'w'\u001b[0m\u001b[0;34m)\u001b[0m\u001b[0;34m:\u001b[0m\u001b[0;34m\u001b[0m\u001b[0;34m\u001b[0m\u001b[0m\n\u001b[1;32m    164\u001b[0m                 \u001b[0mself\u001b[0m\u001b[0;34m.\u001b[0m\u001b[0msession\u001b[0m \u001b[0;34m=\u001b[0m \u001b[0mWritingSession\u001b[0m\u001b[0;34m(\u001b[0m\u001b[0;34m)\u001b[0m\u001b[0;34m\u001b[0m\u001b[0;34m\u001b[0m\u001b[0m\n",
            "\u001b[0;32mfiona/ogrext.pyx\u001b[0m in \u001b[0;36mfiona.ogrext.Session.start\u001b[0;34m()\u001b[0m\n",
            "\u001b[0;32mfiona/_shim.pyx\u001b[0m in \u001b[0;36mfiona._shim.gdal_open_vector\u001b[0;34m()\u001b[0m\n",
            "\u001b[0;31mDriverError\u001b[0m: '/vsimem/0a6a5792cdf94481915a66e4e3da78fc' not recognized as a supported file format."
          ]
        }
      ]
    },
    {
      "cell_type": "code",
      "metadata": {
        "id": "xqUUBj5R3IJv",
        "outputId": "51258b1e-750b-4690-ea84-80a853dd5b9f",
        "colab": {
          "base_uri": "https://localhost:8080/"
        }
      },
      "source": [
        "dataset.width, dataset.height"
      ],
      "execution_count": 50,
      "outputs": [
        {
          "output_type": "execute_result",
          "data": {
            "text/plain": [
              "(21000, 24000)"
            ]
          },
          "metadata": {
            "tags": []
          },
          "execution_count": 50
        }
      ]
    },
    {
      "cell_type": "code",
      "metadata": {
        "id": "e9J7wTBa3MJl",
        "outputId": "49a36312-6f97-4f11-f539-ae018997aaa1",
        "colab": {
          "base_uri": "https://localhost:8080/"
        }
      },
      "source": [
        "fp.width, fp.height"
      ],
      "execution_count": 52,
      "outputs": [
        {
          "output_type": "execute_result",
          "data": {
            "text/plain": [
              "(1416, 1050)"
            ]
          },
          "metadata": {
            "tags": []
          },
          "execution_count": 52
        }
      ]
    },
    {
      "cell_type": "code",
      "metadata": {
        "id": "b0TNNDWj2sqb",
        "outputId": "c37f048b-4e6c-4736-a32e-43ef0970f60f",
        "colab": {
          "base_uri": "https://localhost:8080/"
        }
      },
      "source": [
        "flood_data.shape"
      ],
      "execution_count": 46,
      "outputs": [
        {
          "output_type": "execute_result",
          "data": {
            "text/plain": [
              "(1, 2400, 2100)"
            ]
          },
          "metadata": {
            "tags": []
          },
          "execution_count": 46
        }
      ]
    },
    {
      "cell_type": "code",
      "metadata": {
        "id": "S6NnPZAM3D1D",
        "outputId": "885960a8-7e29-4ee3-94a1-c6d7a82570f1",
        "colab": {
          "base_uri": "https://localhost:8080/"
        }
      },
      "source": [
        "pop_data.shape"
      ],
      "execution_count": 48,
      "outputs": [
        {
          "output_type": "execute_result",
          "data": {
            "text/plain": [
              "(1050, 1416)"
            ]
          },
          "metadata": {
            "tags": []
          },
          "execution_count": 48
        }
      ]
    },
    {
      "cell_type": "code",
      "metadata": {
        "id": "y7hDzdK_25zW"
      },
      "source": [
        "#adm2 represents administrative units\r\n",
        "adm0 = gpd.read_file(base_loc+'SS_ADM0.shp')\r\n",
        "adm1 = gpd.read_file(base_loc+'SS_ADM1.shp')\r\n",
        "adm2 = gpd.read_file(base_loc+'SS_ADM2.shp')"
      ],
      "execution_count": 47,
      "outputs": []
    },
    {
      "cell_type": "markdown",
      "metadata": {
        "id": "aUuIjKwLsAHU"
      },
      "source": [
        "## 1. Flooded area"
      ]
    },
    {
      "cell_type": "code",
      "metadata": {
        "trusted": true,
        "id": "G5F5O_mEsAHU",
        "outputId": "642c3293-b7cf-4327-bb99-0f7352399aff",
        "colab": {
          "base_uri": "https://localhost:8080/",
          "height": 80
        }
      },
      "source": [
        "target_adm = adm1\n",
        "\n",
        "flood_crs = \"EPSG:4326\"\n",
        "\n",
        "target = target.to_crs(flood_crs)\n",
        "\n",
        "# flood_dict = {\n",
        "#     0:'non-flooded',\n",
        "#     1:\"flooded\"\n",
        "# }\n",
        "\n",
        "target\n",
        "\n",
        "# zs = pd.DataFrame(zonal_stats(target, flood_data, affine=meta['transform'], categorical=True, category_map=flood_dict))\n",
        "# area.head()"
      ],
      "execution_count": 26,
      "outputs": [
        {
          "output_type": "execute_result",
          "data": {
            "text/html": [
              "<div>\n",
              "<style scoped>\n",
              "    .dataframe tbody tr th:only-of-type {\n",
              "        vertical-align: middle;\n",
              "    }\n",
              "\n",
              "    .dataframe tbody tr th {\n",
              "        vertical-align: top;\n",
              "    }\n",
              "\n",
              "    .dataframe thead th {\n",
              "        text-align: right;\n",
              "    }\n",
              "</style>\n",
              "<table border=\"1\" class=\"dataframe\">\n",
              "  <thead>\n",
              "    <tr style=\"text-align: right;\">\n",
              "      <th></th>\n",
              "      <th>ADM0_EN</th>\n",
              "      <th>ADM0_PCODE</th>\n",
              "      <th>ADM0_REF</th>\n",
              "      <th>po18sum</th>\n",
              "      <th>sum</th>\n",
              "      <th>geometry</th>\n",
              "    </tr>\n",
              "  </thead>\n",
              "  <tbody>\n",
              "    <tr>\n",
              "      <th>0</th>\n",
              "      <td>South Sudan</td>\n",
              "      <td>SS</td>\n",
              "      <td>None</td>\n",
              "      <td>1.436904e+07</td>\n",
              "      <td>6.037584e+06</td>\n",
              "      <td>POLYGON ((33.89957 10.16584, 33.90147 10.16155...</td>\n",
              "    </tr>\n",
              "  </tbody>\n",
              "</table>\n",
              "</div>"
            ],
            "text/plain": [
              "       ADM0_EN  ...                                           geometry\n",
              "0  South Sudan  ...  POLYGON ((33.89957 10.16584, 33.90147 10.16155...\n",
              "\n",
              "[1 rows x 6 columns]"
            ]
          },
          "metadata": {
            "tags": []
          },
          "execution_count": 26
        }
      ]
    },
    {
      "cell_type": "markdown",
      "metadata": {
        "id": "IPZDVoupsAHV"
      },
      "source": [
        "### Export output"
      ]
    },
    {
      "cell_type": "code",
      "metadata": {
        "trusted": true,
        "id": "uG18hkIVsAHV"
      },
      "source": [
        "# area.to_csv(os.path.join(out_folder, \"area_flooded.csv\"))"
      ],
      "execution_count": 27,
      "outputs": []
    },
    {
      "cell_type": "code",
      "metadata": {
        "trusted": true,
        "id": "Wp2Ni4hMsAHV"
      },
      "source": [
        "# out_folder = os.path.join(data_dir, \"output\")\n",
        "# if not os.path.exists(out_folder):\n",
        "#     os.mkdir(out_folder)"
      ],
      "execution_count": 28,
      "outputs": []
    },
    {
      "cell_type": "markdown",
      "metadata": {
        "id": "o-cJQo9wsAHW"
      },
      "source": [
        "## 2. Flooded population"
      ]
    },
    {
      "cell_type": "markdown",
      "metadata": {
        "id": "P29nPHeBsAHW"
      },
      "source": [
        "### Create flood hazard extent mask using a threshold of 15 cm"
      ]
    },
    {
      "cell_type": "code",
      "metadata": {
        "trusted": true,
        "id": "jNUENvN_sAHW"
      },
      "source": [
        "# Get flooded areas\n",
        "flood_mask = np.where(flood_data > 0.15, 1, 0)"
      ],
      "execution_count": 37,
      "outputs": []
    },
    {
      "cell_type": "code",
      "metadata": {
        "id": "lf0lYBI81Jl9",
        "outputId": "0d7390ec-f9af-4a20-ed0d-1915e957837a",
        "colab": {
          "base_uri": "https://localhost:8080/"
        }
      },
      "source": [
        "flood_mask.shape"
      ],
      "execution_count": 41,
      "outputs": [
        {
          "output_type": "execute_result",
          "data": {
            "text/plain": [
              "(24000, 21000)"
            ]
          },
          "metadata": {
            "tags": []
          },
          "execution_count": 41
        }
      ]
    },
    {
      "cell_type": "code",
      "metadata": {
        "id": "hQMuSezM1MCy",
        "outputId": "95ede033-e647-4028-a48c-e177729d6511",
        "colab": {
          "base_uri": "https://localhost:8080/"
        }
      },
      "source": [
        "pop.shape"
      ],
      "execution_count": 42,
      "outputs": [
        {
          "output_type": "execute_result",
          "data": {
            "text/plain": [
              "(1050, 1416)"
            ]
          },
          "metadata": {
            "tags": []
          },
          "execution_count": 42
        }
      ]
    },
    {
      "cell_type": "markdown",
      "metadata": {
        "id": "W8FxzJrEsAHW"
      },
      "source": [
        "### Estimate population within hazard extent and plot as map"
      ]
    },
    {
      "cell_type": "code",
      "metadata": {
        "trusted": true,
        "id": "e_hCSbSlsAHW",
        "outputId": "bb7934c2-0be2-4e5a-fa9e-2ff0421ed6a5",
        "colab": {
          "base_uri": "https://localhost:8080/",
          "height": 163
        }
      },
      "source": [
        "pop_fd = flood_mask * pop"
      ],
      "execution_count": 40,
      "outputs": [
        {
          "output_type": "error",
          "ename": "ValueError",
          "evalue": "ignored",
          "traceback": [
            "\u001b[0;31m---------------------------------------------------------------------------\u001b[0m",
            "\u001b[0;31mValueError\u001b[0m                                Traceback (most recent call last)",
            "\u001b[0;32m<ipython-input-40-d736619b253b>\u001b[0m in \u001b[0;36m<module>\u001b[0;34m()\u001b[0m\n\u001b[0;32m----> 1\u001b[0;31m \u001b[0mpop_fd\u001b[0m \u001b[0;34m=\u001b[0m \u001b[0mflood_mask\u001b[0m \u001b[0;34m*\u001b[0m \u001b[0mpop\u001b[0m\u001b[0;34m\u001b[0m\u001b[0;34m\u001b[0m\u001b[0m\n\u001b[0m",
            "\u001b[0;31mValueError\u001b[0m: operands could not be broadcast together with shapes (24000,21000) (1050,1416) "
          ]
        }
      ]
    },
    {
      "cell_type": "code",
      "metadata": {
        "trusted": true,
        "id": "Wn741jAfsAHX"
      },
      "source": [
        "#print total population affected\n",
        "totalPop = 0\n",
        "for el in zonalStatsFB:\n",
        "  if not el['sum'] is None:\n",
        "    totalPop = totalPop + el['sum']\n",
        "\n",
        "print(totalPop)"
      ],
      "execution_count": null,
      "outputs": []
    },
    {
      "cell_type": "code",
      "metadata": {
        "trusted": true,
        "id": "w_J6kJXusAHX"
      },
      "source": [
        "plot pop_fd over osm basemap"
      ],
      "execution_count": null,
      "outputs": []
    },
    {
      "cell_type": "markdown",
      "metadata": {
        "id": "gy8GkLL8sAHX"
      },
      "source": [
        "### Summary for ADM2 level - zonal statistics"
      ]
    },
    {
      "cell_type": "code",
      "metadata": {
        "trusted": true,
        "id": "t2dJgWvMsAHX"
      },
      "source": [
        "# total population affected\n",
        "totalPop = 0\n",
        "for el in zonalStatsFB:\n",
        "  if not el['sum'] is None:\n",
        "    totalPop = totalPop + el['sum']\n",
        "\n",
        "print(totalPop)"
      ],
      "execution_count": null,
      "outputs": []
    },
    {
      "cell_type": "code",
      "metadata": {
        "trusted": false,
        "id": "weqofv3HsAHX"
      },
      "source": [
        "# population affected for each ADM2 unit\n",
        "target = target.to_crs(pop_crs)\n",
        "zs_landscan = pd.DataFrame(zonal_stats(target, pop_fd, affine=landscan.meta['transform'], stats='sum')).rename(columns = {'sum':'pop_flooded_rp100'})\n",
        "\n",
        "plot = results shown as map and as table"
      ],
      "execution_count": null,
      "outputs": []
    },
    {
      "cell_type": "code",
      "metadata": {
        "trusted": true,
        "id": "RX77-C1IsAHY"
      },
      "source": [
        ""
      ],
      "execution_count": null,
      "outputs": []
    },
    {
      "cell_type": "markdown",
      "metadata": {
        "id": "YbzupIpVsAHY"
      },
      "source": [
        "### Export output"
      ]
    },
    {
      "cell_type": "code",
      "metadata": {
        "trusted": false,
        "id": "gTg15Za-sAHY"
      },
      "source": [
        "area.to_csv(os.path.join(out_folder, \"pop_flooded_rp100.csv\"))"
      ],
      "execution_count": null,
      "outputs": []
    },
    {
      "cell_type": "code",
      "metadata": {
        "trusted": false,
        "id": "pYXHNlElsAHY"
      },
      "source": [
        "out_folder = os.path.join(data_dir, \"output\")\n",
        "if not os.path.exists(out_folder):\n",
        "    os.mkdir(out_folder)"
      ],
      "execution_count": null,
      "outputs": []
    },
    {
      "cell_type": "code",
      "metadata": {
        "trusted": true,
        "id": "FDSDkC5GsAHZ"
      },
      "source": [
        ""
      ],
      "execution_count": null,
      "outputs": []
    }
  ]
}