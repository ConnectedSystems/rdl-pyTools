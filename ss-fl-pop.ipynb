{
  "nbformat": 4,
  "nbformat_minor": 0,
  "metadata": {
    "colab": {
      "name": "Flood_analysis.ipynb",
      "provenance": [],
      "collapsed_sections": [],
      "toc_visible": true
    },
    "kernelspec": {
      "name": "python3",
      "display_name": "Python 3",
      "language": "python"
    },
    "language_info": {
      "name": "python",
      "version": "3.7.9",
      "mimetype": "text/x-python",
      "codemirror_mode": {
        "name": "ipython",
        "version": 3
      },
      "pygments_lexer": "ipython3",
      "nbconvert_exporter": "python",
      "file_extension": ".py"
    }
  },
  "cells": [
    {
      "cell_type": "markdown",
      "metadata": {
        "id": "_4lzB9IWsAHH"
      },
      "source": [
        "# This notebook includes a simple demo for flood risk assessment\n",
        "\n",
        "## It uses flood hazard water depth scenario RP100 and population map for 2018"
      ]
    },
    {
      "cell_type": "code",
      "metadata": {
        "colab": {
          "base_uri": "https://localhost:8080/"
        },
        "id": "-cZaIbbgPD9U",
        "trusted": false,
        "outputId": "c3dc597e-29fb-4c3e-e0d6-025157589ed6"
      },
      "source": [
        "# Added to requirements.txt, but need to specify version? Then remove here\n",
        "!pip -q install geopandas\n",
        "!apt -q install libspatialindex-dev\n",
        "!pip -q install osmnx\n",
        "!pip -q install rasterio\n",
        "!pip -q install rasterstats\n",
        "!pip -q install geojson"
      ],
      "execution_count": 1,
      "outputs": [
        {
          "output_type": "stream",
          "text": [
            "Reading package lists...\n",
            "Building dependency tree...\n",
            "Reading state information...\n",
            "libspatialindex-dev is already the newest version (1.8.5-5).\n",
            "0 upgraded, 0 newly installed, 0 to remove and 29 not upgraded.\n"
          ],
          "name": "stdout"
        }
      ]
    },
    {
      "cell_type": "code",
      "metadata": {
        "colab": {
          "base_uri": "https://localhost:8080/"
        },
        "id": "fgEbiWiWvaVi",
        "outputId": "d699d800-f943-45d1-fc91-206caaab1589"
      },
      "source": [
        "# !git clone https://github.com/gfdrr/rdl-pytools.git\r\n",
        "!cd rdl-pytools && git pull origin main"
      ],
      "execution_count": 5,
      "outputs": [
        {
          "output_type": "stream",
          "text": [
            "remote: Enumerating objects: 14, done.\u001b[K\n",
            "remote: Counting objects:   7% (1/14)\u001b[K\rremote: Counting objects:  14% (2/14)\u001b[K\rremote: Counting objects:  21% (3/14)\u001b[K\rremote: Counting objects:  28% (4/14)\u001b[K\rremote: Counting objects:  35% (5/14)\u001b[K\rremote: Counting objects:  42% (6/14)\u001b[K\rremote: Counting objects:  50% (7/14)\u001b[K\rremote: Counting objects:  57% (8/14)\u001b[K\rremote: Counting objects:  64% (9/14)\u001b[K\rremote: Counting objects:  71% (10/14)\u001b[K\rremote: Counting objects:  78% (11/14)\u001b[K\rremote: Counting objects:  85% (12/14)\u001b[K\rremote: Counting objects:  92% (13/14)\u001b[K\rremote: Counting objects: 100% (14/14)\u001b[K\rremote: Counting objects: 100% (14/14), done.\u001b[K\n",
            "remote: Compressing objects: 100% (7/7), done.\u001b[K\n",
            "remote: Total 10 (delta 3), reused 7 (delta 2), pack-reused 0\u001b[K\n",
            "Unpacking objects: 100% (10/10), done.\n",
            "From https://github.com/gfdrr/rdl-pytools\n",
            " * branch            main       -> FETCH_HEAD\n",
            "   11fecfc..18d556d  main       -> origin/main\n",
            "Updating 11fecfc..18d556d\n",
            "Fast-forward\n",
            " data/ssudan/hzd-ss-fl-rp100.cpg |   1 \u001b[32m+\u001b[m\n",
            " data/ssudan/hzd-ss-fl-rp100.dbf | Bin \u001b[31m0\u001b[m -> \u001b[32m715426\u001b[m bytes\n",
            " data/ssudan/hzd-ss-fl-rp100.prj |   1 \u001b[32m+\u001b[m\n",
            " data/ssudan/hzd-ss-fl-rp100.shp | Bin \u001b[31m0\u001b[m -> \u001b[32m14079088\u001b[m bytes\n",
            " data/ssudan/hzd-ss-fl-rp100.shx | Bin \u001b[31m0\u001b[m -> \u001b[32m572388\u001b[m bytes\n",
            " ss-fl-pop.ipynb                 | 783 \u001b[32m+++++++++++++++++++++++++++++++++++++++\u001b[m\u001b[31m-\u001b[m\n",
            " 6 files changed, 784 insertions(+), 1 deletion(-)\n",
            " create mode 100644 data/ssudan/hzd-ss-fl-rp100.cpg\n",
            " create mode 100644 data/ssudan/hzd-ss-fl-rp100.dbf\n",
            " create mode 100644 data/ssudan/hzd-ss-fl-rp100.prj\n",
            " create mode 100644 data/ssudan/hzd-ss-fl-rp100.shp\n",
            " create mode 100644 data/ssudan/hzd-ss-fl-rp100.shx\n"
          ],
          "name": "stdout"
        }
      ]
    },
    {
      "cell_type": "markdown",
      "metadata": {
        "id": "x7t8A3YBsAHO"
      },
      "source": [
        "### Import required libraries"
      ]
    },
    {
      "cell_type": "code",
      "metadata": {
        "trusted": false,
        "id": "bBVMg5-HsAHO"
      },
      "source": [
        "# Required libraries\n",
        "import tempfile\n",
        "\n",
        "import numpy as np\n",
        "import pandas as pd\n",
        "import geopandas as gpd\n",
        "\n",
        "import rasterio\n",
        "import rasterio.mask\n",
        "from rasterio.enums import Resampling\n",
        "from rasterio.plot import show\n",
        "\n",
        "from rasterstats import zonal_stats, utils\n",
        "\n",
        "import gdal, gdalconst\n",
        "from osgeo import ogr, osr\n",
        "from shapely import wkb\n",
        "from matplotlib import pyplot\n",
        "from shapely.geometry import shape\n",
        "\n"
      ],
      "execution_count": 7,
      "outputs": []
    },
    {
      "cell_type": "code",
      "metadata": {
        "trusted": true,
        "id": "Wn741jAfsAHX"
      },
      "source": [
        "# Helper functions to perform analysis\n",
        "\n",
        "def collect_stats(src_file, shp, target_data, stats, colname):\n",
        "  \"\"\"\n",
        "  Parameters\n",
        "  ----------\n",
        "  src_file : source raster file to extract metadata from\n",
        "  shp : shapefile used to select spatial area\n",
        "  target_data : np.ndarray, of data\n",
        "  stats : str or List[str], collection of statistics to calculate\n",
        "  colname : str, target column in `shp`\n",
        "  \"\"\"\n",
        "  # Write flood population raster to temporary file\n",
        "  temp = tempfile.NamedTemporaryFile(suffix=\".tiff\")\n",
        "\n",
        "  # Need source data information so that outputted data profile matches\n",
        "  with rasterio.open(src_file) as src:\n",
        "    with rasterio.Env():\n",
        "      profile = src.profile\n",
        "\n",
        "      # band count = 1, dtype to int32, and use LZW compression\n",
        "      profile.update(\n",
        "          dtype=rasterio.int32,\n",
        "          count=1,\n",
        "          compress='lzw')\n",
        "\n",
        "      # Write out to the temporary file\n",
        "      with rasterio.open(temp.name, 'w', **profile) as dst:\n",
        "        dst.write(target_data.astype(rasterio.int32), 1)\n",
        "\n",
        "    # Perform zonal statistics on temporary file using the ADM2 shapefile\n",
        "    shp_data = gpd.read_file(shp)\n",
        "    result = {}\n",
        "    for geom in shp_data.itertuples():\n",
        "      result[getattr(geom, colname)] = zonal_stats(geom.geometry,\n",
        "                                                   temp.name,\n",
        "                                                   stats=stats)\n",
        "    \n",
        "    return result\n",
        "\n",
        "\n",
        "def convert_stats_to_df(data, col_name, stat_name):\n",
        "  \"\"\"\n",
        "  data : result from `collect_stats()`\n",
        "  col_name : str, desired name of column in DataFrame\n",
        "  stat_name : str, name of statistic used in `collect_stats()`\n",
        "  \"\"\"\n",
        "  tmp = {k: v[0][stat_name] for (k, v) in data.items()}\n",
        "  res = pd.DataFrame.from_dict(tmp, orient='index', columns=[col_name])\n",
        "  return res"
      ],
      "execution_count": 67,
      "outputs": []
    },
    {
      "cell_type": "markdown",
      "metadata": {
        "id": "qpPrHqn_sAHT"
      },
      "source": [
        "### Load input data: flood hazard (RP100) and population (Landscan 2018)\n",
        "\n",
        "All data already share the same crs (epsg 4326)"
      ]
    },
    {
      "cell_type": "code",
      "metadata": {
        "id": "Gto7NCHCKj6_",
        "trusted": false
      },
      "source": [
        "base_loc = \"rdl-pytools/data/ssudan/\"\n",
        "\n",
        "#pop represents population data\n",
        "with rasterio.open(base_loc+'exp-ss-pop-landscan18.tif') as fp:\n",
        "  pop_data = fp.read(1)\n",
        "\n",
        "  # Get cell size for count of affected area later on\n",
        "  gt = fp.transform\n",
        "  pixelSizeX = gt[0]\n",
        "  pixelSizeY =-gt[4]\n",
        "\n",
        "\n",
        "scale_factor = 0.1\n",
        "with rasterio.open(base_loc+'hzd-ss-fl-rp100.tif') as dataset:\n",
        "  # resample data to population data resolution\n",
        "  data = dataset.read(\n",
        "      out_shape=(\n",
        "          dataset.count,\n",
        "          int(fp.height),\n",
        "          int(fp.width)\n",
        "      ),\n",
        "      resampling=Resampling.bilinear\n",
        "  )\n",
        "\n",
        "  \n",
        "\n",
        "  # scale image transform\n",
        "  transform = dataset.transform * dataset.transform.scale(\n",
        "      (dataset.width / pop_data.shape[-1]),\n",
        "      (dataset.height / pop_data.shape[-2])\n",
        "  )\n",
        "\n",
        "flood_data = data[0, :, :]\n"
      ],
      "execution_count": 132,
      "outputs": []
    },
    {
      "cell_type": "code",
      "metadata": {
        "id": "uilCvrlHP6aE",
        "outputId": "dc3b31a8-8ff4-4e83-e727-ca230a8c1685",
        "colab": {
          "base_uri": "https://localhost:8080/"
        }
      },
      "source": [
        "pixelSizeX, pixelSizeY"
      ],
      "execution_count": 133,
      "outputs": [
        {
          "output_type": "execute_result",
          "data": {
            "text/plain": [
              "(0.008333333333333333, 0.008333333333333333)"
            ]
          },
          "metadata": {
            "tags": []
          },
          "execution_count": 133
        }
      ]
    },
    {
      "cell_type": "code",
      "metadata": {
        "id": "46FOO1U93muD"
      },
      "source": [
        "flood_extent = gpd.read_file(base_loc+\"hzd-ss-fl-rp100.shp\")"
      ],
      "execution_count": 16,
      "outputs": []
    },
    {
      "cell_type": "code",
      "metadata": {
        "id": "D0q843oxMNZ6",
        "outputId": "fb727fd7-ff96-43b3-a9c1-5530dbd13ba7",
        "colab": {
          "base_uri": "https://localhost:8080/"
        }
      },
      "source": [
        "flood_extent.columns"
      ],
      "execution_count": 111,
      "outputs": [
        {
          "output_type": "execute_result",
          "data": {
            "text/plain": [
              "Index(['OBJECTID', 'geometry'], dtype='object')"
            ]
          },
          "metadata": {
            "tags": []
          },
          "execution_count": 111
        }
      ]
    },
    {
      "cell_type": "code",
      "metadata": {
        "colab": {
          "base_uri": "https://localhost:8080/"
        },
        "id": "b0TNNDWj2sqb",
        "outputId": "4ffe3e49-0a92-450b-ce3d-84c2d43ac654"
      },
      "source": [
        "# Flood resolution and population data resolution should match\r\n",
        "flood_data.shape == pop_data.shape"
      ],
      "execution_count": 19,
      "outputs": [
        {
          "output_type": "execute_result",
          "data": {
            "text/plain": [
              "True"
            ]
          },
          "metadata": {
            "tags": []
          },
          "execution_count": 19
        }
      ]
    },
    {
      "cell_type": "code",
      "metadata": {
        "id": "HyjVO1RGPL7X",
        "outputId": "d8ec0d6a-32e6-4235-b835-101df5528dc7",
        "colab": {
          "base_uri": "https://localhost:8080/"
        }
      },
      "source": [
        "flood_data.shape"
      ],
      "execution_count": 120,
      "outputs": [
        {
          "output_type": "execute_result",
          "data": {
            "text/plain": [
              "(1050, 1416)"
            ]
          },
          "metadata": {
            "tags": []
          },
          "execution_count": 120
        }
      ]
    },
    {
      "cell_type": "code",
      "metadata": {
        "id": "y7hDzdK_25zW"
      },
      "source": [
        "#adm represents administrative units\r\n",
        "adm0 = gpd.read_file(base_loc+'SS_ADM0.shp')\r\n",
        "adm1 = gpd.read_file(base_loc+'SS_ADM1.shp')\r\n",
        "adm2 = gpd.read_file(base_loc+'SS_ADM2.shp')"
      ],
      "execution_count": 20,
      "outputs": []
    },
    {
      "cell_type": "markdown",
      "metadata": {
        "id": "aUuIjKwLsAHU"
      },
      "source": [
        "## 1. Flooded area"
      ]
    },
    {
      "cell_type": "code",
      "metadata": {
        "trusted": true,
        "id": "G5F5O_mEsAHU"
      },
      "source": [
        "# with rasterio.open(base_loc+'hzd-ss-fl-rp100.tif') as dataset:\n",
        "#   flood_area = dataset.read(1)"
      ],
      "execution_count": 113,
      "outputs": []
    },
    {
      "cell_type": "code",
      "metadata": {
        "id": "kdTsL9MfMA0C"
      },
      "source": [
        "adm1_flooded_areas = collect_stats(base_loc+'hzd-ss-fl-rp100.tif', base_loc+'SS_ADM1.shp', flood_data, [\"count\"], 'ADM1_PCODE')"
      ],
      "execution_count": 118,
      "outputs": []
    },
    {
      "cell_type": "code",
      "metadata": {
        "id": "TZxbHA8XOKz-"
      },
      "source": [
        "flooded_area_df = convert_stats_to_df(adm1_flooded_areas, 'flooded_area', 'count')\r\n",
        "\r\n",
        "# Convert count of cells into expected spatial resolution in degrees\r\n",
        "flooded_area_df['flooded_area'] *= pixelSizeX*pixelSizeY"
      ],
      "execution_count": 121,
      "outputs": []
    },
    {
      "cell_type": "code",
      "metadata": {
        "id": "4DSO39R7RPcu",
        "outputId": "0417054c-d0e7-4cfb-c1d8-c9e8b5561572",
        "colab": {
          "base_uri": "https://localhost:8080/"
        }
      },
      "source": [
        ""
      ],
      "execution_count": 134,
      "outputs": [
        {
          "output_type": "execute_result",
          "data": {
            "text/plain": [
              "6.944444444444444e-05"
            ]
          },
          "metadata": {
            "tags": []
          },
          "execution_count": 134
        }
      ]
    },
    {
      "cell_type": "code",
      "metadata": {
        "id": "FgPIaDeQPekK",
        "outputId": "280fb76f-ebd1-4395-ff14-c81138e058e7",
        "colab": {
          "base_uri": "https://localhost:8080/",
          "height": 282
        }
      },
      "source": [
        "flooded_area_deg = adm1.join(flooded_area_df, on='ADM1_PCODE')\r\n",
        "\r\n",
        "flooded_area_deg.plot(column='flooded_area')"
      ],
      "execution_count": 123,
      "outputs": [
        {
          "output_type": "execute_result",
          "data": {
            "text/plain": [
              "<AxesSubplot:>"
            ]
          },
          "metadata": {
            "tags": []
          },
          "execution_count": 123
        },
        {
          "output_type": "display_data",
          "data": {
            "image/png": "[encoded data removed]",
            "text/plain": [
              "<Figure size 432x288 with 1 Axes>"
            ]
          },
          "metadata": {
            "tags": [],
            "needs_background": "light"
          }
        }
      ]
    },
    {
      "cell_type": "markdown",
      "metadata": {
        "id": "IPZDVoupsAHV"
      },
      "source": [
        "### Export output"
      ]
    },
    {
      "cell_type": "code",
      "metadata": {
        "trusted": true,
        "id": "uG18hkIVsAHV"
      },
      "source": [
        "# area.to_csv(os.path.join(out_folder, \"area_flooded.csv\"))"
      ],
      "execution_count": 27,
      "outputs": []
    },
    {
      "cell_type": "code",
      "metadata": {
        "trusted": true,
        "id": "Wp2Ni4hMsAHV"
      },
      "source": [
        "# out_folder = os.path.join(data_dir, \"output\")\n",
        "# if not os.path.exists(out_folder):\n",
        "#     os.mkdir(out_folder)"
      ],
      "execution_count": 28,
      "outputs": []
    },
    {
      "cell_type": "markdown",
      "metadata": {
        "id": "o-cJQo9wsAHW"
      },
      "source": [
        "## 2. Flooded population"
      ]
    },
    {
      "cell_type": "markdown",
      "metadata": {
        "id": "P29nPHeBsAHW"
      },
      "source": [
        "### Create flood hazard extent mask using a threshold of 15 cm"
      ]
    },
    {
      "cell_type": "code",
      "metadata": {
        "trusted": true,
        "id": "jNUENvN_sAHW"
      },
      "source": [
        "# Get flooded areas\n",
        "flood_mask = np.where(flood_data > 0.15, 1, 0)"
      ],
      "execution_count": 21,
      "outputs": []
    },
    {
      "cell_type": "code",
      "metadata": {
        "colab": {
          "base_uri": "https://localhost:8080/"
        },
        "id": "lf0lYBI81Jl9",
        "outputId": "b92f66d2-4657-4d9a-9b63-3e9a92ba8cbb"
      },
      "source": [
        "# Flood mask should match population data resolution\r\n",
        "flood_mask.shape == pop_data.shape"
      ],
      "execution_count": 24,
      "outputs": [
        {
          "output_type": "execute_result",
          "data": {
            "text/plain": [
              "True"
            ]
          },
          "metadata": {
            "tags": []
          },
          "execution_count": 24
        }
      ]
    },
    {
      "cell_type": "markdown",
      "metadata": {
        "id": "W8FxzJrEsAHW"
      },
      "source": [
        "### Estimate population within hazard extent and plot as map"
      ]
    },
    {
      "cell_type": "code",
      "metadata": {
        "trusted": true,
        "id": "e_hCSbSlsAHW"
      },
      "source": [
        "pop_fd = flood_mask * pop_data"
      ],
      "execution_count": 42,
      "outputs": []
    },
    {
      "cell_type": "code",
      "metadata": {
        "colab": {
          "base_uri": "https://localhost:8080/",
          "height": 282
        },
        "id": "6FnKfWxJ82ja",
        "outputId": "cc638f9e-58f3-4ce3-f8bb-a45dbc58026c"
      },
      "source": [
        "adm2.plot()"
      ],
      "execution_count": 27,
      "outputs": [
        {
          "output_type": "execute_result",
          "data": {
            "text/plain": [
              "<AxesSubplot:>"
            ]
          },
          "metadata": {
            "tags": []
          },
          "execution_count": 27
        },
        {
          "output_type": "display_data",
          "data": {
            "image/png": "[encoded data removed]",
            "text/plain": [
              "<Figure size 432x288 with 1 Axes>"
            ]
          },
          "metadata": {
            "tags": [],
            "needs_background": "light"
          }
        }
      ]
    },
    {
      "cell_type": "markdown",
      "metadata": {
        "id": "5QBMAjCkAYdU"
      },
      "source": [
        "Summary for ADM2 level - zonal statistics"
      ]
    },
    {
      "cell_type": "code",
      "metadata": {
        "id": "US5TisSuB0-x"
      },
      "source": [
        "adm1_stats = collect_stats(base_loc+'hzd-ss-fl-rp100.tif', base_loc+'SS_ADM1.shp', pop_fd, stats=\"sum\", colname='ADM1_PCODE')"
      ],
      "execution_count": 68,
      "outputs": []
    },
    {
      "cell_type": "code",
      "metadata": {
        "id": "fqBuVNWfB8hE"
      },
      "source": [
        "adm2_stats = collect_stats(base_loc+'hzd-ss-fl-rp100.tif', base_loc+'SS_ADM2.shp', pop_fd, stats=\"sum\", colname='ADM2_PCODE')"
      ],
      "execution_count": 69,
      "outputs": []
    },
    {
      "cell_type": "code",
      "metadata": {
        "id": "nj8_fF3bIbYD"
      },
      "source": [
        "res_df = convert_stats_to_df(adm1_stats, 'population_sum', 'sum')"
      ],
      "execution_count": 93,
      "outputs": []
    },
    {
      "cell_type": "code",
      "metadata": {
        "id": "PbF5xtgLIlCM"
      },
      "source": [
        "pop_affected_by_flood = adm1.join(res_df, on='ADM1_PCODE')"
      ],
      "execution_count": 100,
      "outputs": []
    },
    {
      "cell_type": "code",
      "metadata": {
        "colab": {
          "base_uri": "https://localhost:8080/",
          "height": 282
        },
        "id": "j26Y5ye9JCf3",
        "outputId": "1e9daf8c-e8cf-4b11-d5e8-573da55aa719"
      },
      "source": [
        "pop_affected_by_flood.plot(column='population_sum')"
      ],
      "execution_count": 101,
      "outputs": [
        {
          "output_type": "execute_result",
          "data": {
            "text/plain": [
              "<AxesSubplot:>"
            ]
          },
          "metadata": {
            "tags": []
          },
          "execution_count": 101
        },
        {
          "output_type": "display_data",
          "data": {
            "image/png": "[encoded data removed]",
            "text/plain": [
              "<Figure size 432x288 with 1 Axes>"
            ]
          },
          "metadata": {
            "tags": [],
            "needs_background": "light"
          }
        }
      ]
    },
    {
      "cell_type": "markdown",
      "metadata": {
        "id": "YbzupIpVsAHY"
      },
      "source": [
        "### Export output"
      ]
    },
    {
      "cell_type": "code",
      "metadata": {
        "trusted": false,
        "colab": {
          "base_uri": "https://localhost:8080/"
        },
        "id": "gTg15Za-sAHY",
        "outputId": "e5ea283a-f96e-494c-f1d5-e3e738d57327"
      },
      "source": [
        "pop_affected_by_flood.to_csv(\"pop_flooded_rp100.csv\")\r\n",
        "pop_affected_by_flood.to_file(\"adm1_pop_affected_by_flood.shp\")"
      ],
      "execution_count": 102,
      "outputs": [
        {
          "output_type": "stream",
          "text": [
            "/usr/local/lib/python3.7/dist-packages/ipykernel_launcher.py:2: UserWarning: Column names longer than 10 characters will be truncated when saved to ESRI Shapefile.\n",
            "  \n"
          ],
          "name": "stderr"
        }
      ]
    },
    {
      "cell_type": "code",
      "metadata": {
        "trusted": true,
        "colab": {
          "base_uri": "https://localhost:8080/",
          "height": 17
        },
        "id": "FDSDkC5GsAHZ",
        "outputId": "f5ad68f6-0a64-4979-b995-d9f5aa95cc3e"
      },
      "source": [
        "# Download files using the menu on left-hand side"
      ],
      "execution_count": 104,
      "outputs": [
        {
          "output_type": "display_data",
          "data": {
            "application/javascript": [
              "\n",
              "    async function download(id, filename, size) {\n",
              "      if (!google.colab.kernel.accessAllowed) {\n",
              "        return;\n",
              "      }\n",
              "      const div = document.createElement('div');\n",
              "      const label = document.createElement('label');\n",
              "      label.textContent = `Downloading \"${filename}\": `;\n",
              "      div.appendChild(label);\n",
              "      const progress = document.createElement('progress');\n",
              "      progress.max = size;\n",
              "      div.appendChild(progress);\n",
              "      document.body.appendChild(div);\n",
              "\n",
              "      const buffers = [];\n",
              "      let downloaded = 0;\n",
              "\n",
              "      const channel = await google.colab.kernel.comms.open(id);\n",
              "      // Send a message to notify the kernel that we're ready.\n",
              "      channel.send({})\n",
              "\n",
              "      for await (const message of channel.messages) {\n",
              "        // Send a message to notify the kernel that we're ready.\n",
              "        channel.send({})\n",
              "        if (message.buffers) {\n",
              "          for (const buffer of message.buffers) {\n",
              "            buffers.push(buffer);\n",
              "            downloaded += buffer.byteLength;\n",
              "            progress.value = downloaded;\n",
              "          }\n",
              "        }\n",
              "      }\n",
              "      const blob = new Blob(buffers, {type: 'application/binary'});\n",
              "      const a = document.createElement('a');\n",
              "      a.href = window.URL.createObjectURL(blob);\n",
              "      a.download = filename;\n",
              "      div.appendChild(a);\n",
              "      a.click();\n",
              "      div.remove();\n",
              "    }\n",
              "  "
            ],
            "text/plain": [
              "<IPython.core.display.Javascript object>"
            ]
          },
          "metadata": {
            "tags": []
          }
        },
        {
          "output_type": "display_data",
          "data": {
            "application/javascript": [
              "download(\"download_c4028931-0677-4e52-b721-9fd4414e9bd7\", \"adm1_pop_affected_by_flood.shp\", 319380)"
            ],
            "text/plain": [
              "<IPython.core.display.Javascript object>"
            ]
          },
          "metadata": {
            "tags": []
          }
        }
      ]
    },
    {
      "cell_type": "code",
      "metadata": {
        "id": "LqxzTh5kKsJ7"
      },
      "source": [
        ""
      ],
      "execution_count": null,
      "outputs": []
    }
  ]
}