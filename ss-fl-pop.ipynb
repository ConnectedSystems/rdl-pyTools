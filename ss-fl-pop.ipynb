{
  "nbformat": 4,
  "nbformat_minor": 0,
  "metadata": {
    "colab": {
      "name": "Flood_analysis.ipynb",
      "provenance": [],
      "collapsed_sections": [],
      "toc_visible": true,
      "include_colab_link": true
    },
    "kernelspec": {
      "name": "python3",
      "display_name": "Python 3",
      "language": "python"
    },
    "language_info": {
      "name": "python",
      "version": "3.7.9",
      "mimetype": "text/x-python",
      "codemirror_mode": {
        "name": "ipython",
        "version": 3
      },
      "pygments_lexer": "ipython3",
      "nbconvert_exporter": "python",
      "file_extension": ".py"
    }
  },
  "cells": [
    {
      "cell_type": "markdown",
      "metadata": {
        "id": "view-in-github",
        "colab_type": "text"
      },
      "source": [
        "<a href=\"https://colab.research.google.com/github/GFDRR/rdl-pyTools/blob/main/ss-fl-pop.ipynb\" target=\"_parent\"><img src=\"https://colab.research.google.com/assets/colab-badge.svg\" alt=\"Open In Colab\"/></a>"
      ]
    },
    {
      "cell_type": "markdown",
      "metadata": {
        "id": "_4lzB9IWsAHH"
      },
      "source": [
        "# This notebook includes a simple demo for flood risk assessment\n",
        "\n",
        "## It uses flood hazard water depth scenario RP100 and population map for 2018"
      ]
    },
    {
      "cell_type": "code",
      "metadata": {
        "colab": {
          "base_uri": "https://localhost:8080/"
        },
        "id": "-cZaIbbgPD9U",
        "trusted": false,
        "outputId": "e25e6fe6-bc1e-420f-fde6-b98c1e770737"
      },
      "source": [
        "# Added to requirements.txt, but need to specify version? Then remove here\n",
        "!pip -q install geopandas\n",
        "!apt -q install libspatialindex-dev\n",
        "!pip -q install osmnx\n",
        "!pip -q install rasterio\n",
        "!pip -q install rasterstats\n",
        "!pip -q install geojson\n",
        "!pip -q install contextily"
      ],
      "execution_count": 1,
      "outputs": [
        {
          "output_type": "stream",
          "text": [
            "Reading package lists...\n",
            "Building dependency tree...\n",
            "Reading state information...\n",
            "libspatialindex-dev is already the newest version (1.8.5-5).\n",
            "0 upgraded, 0 newly installed, 0 to remove and 29 not upgraded.\n"
          ],
          "name": "stdout"
        }
      ]
    },
    {
      "cell_type": "code",
      "metadata": {
        "colab": {
          "base_uri": "https://localhost:8080/"
        },
        "id": "fgEbiWiWvaVi",
        "outputId": "deb9d1eb-9eb7-4adc-8ea3-57c7ea0cabd5"
      },
      "source": [
        "# !git clone https://github.com/gfdrr/rdl-pytools.git\r\n",
        "!cd rdl-pytools && git pull origin main"
      ],
      "execution_count": 2,
      "outputs": [
        {
          "output_type": "stream",
          "text": [
            "From https://github.com/gfdrr/rdl-pytools\n",
            " * branch            main       -> FETCH_HEAD\n",
            "Already up to date.\n"
          ],
          "name": "stdout"
        }
      ]
    },
    {
      "cell_type": "markdown",
      "metadata": {
        "id": "x7t8A3YBsAHO"
      },
      "source": [
        "### Import required libraries"
      ]
    },
    {
      "cell_type": "code",
      "metadata": {
        "trusted": false,
        "id": "bBVMg5-HsAHO"
      },
      "source": [
        "# Required libraries\n",
        "import tempfile\n",
        "\n",
        "import numpy as np\n",
        "import pandas as pd\n",
        "import geopandas as gpd\n",
        "\n",
        "import rasterio\n",
        "import rasterio.mask\n",
        "from rasterio.enums import Resampling\n",
        "from rasterio.plot import show\n",
        "\n",
        "from rasterstats import zonal_stats, utils\n",
        "\n",
        "# import gdal, gdalconst\n",
        "# from osgeo import ogr, osr\n",
        "# from shapely import wkb\n",
        "# from matplotlib import pyplot\n",
        "# from shapely.geometry import shape\n",
        "import contextily as ctx\n"
      ],
      "execution_count": 3,
      "outputs": []
    },
    {
      "cell_type": "code",
      "metadata": {
        "trusted": true,
        "id": "Wn741jAfsAHX"
      },
      "source": [
        "# Helper functions to perform analysis\n",
        "\n",
        "def collect_stats(src_file, shp, target_data, stats, colname):\n",
        "  \"\"\"\n",
        "  Parameters\n",
        "  ----------\n",
        "  src_file : source raster file to extract metadata from\n",
        "  shp : shapefile used to select spatial area\n",
        "  target_data : np.ndarray, of data\n",
        "  stats : str or List[str], collection of statistics to calculate\n",
        "  colname : str, target column in `shp`\n",
        "  \"\"\"\n",
        "  # Write flood population raster to temporary file\n",
        "  temp = tempfile.NamedTemporaryFile(suffix=\".tiff\")\n",
        "\n",
        "  # Need source data information so that outputted data profile matches\n",
        "  with rasterio.open(src_file) as src:\n",
        "    with rasterio.Env():\n",
        "      profile = src.profile\n",
        "\n",
        "      # band count = 1, dtype to int32, and use LZW compression\n",
        "      profile.update(\n",
        "          dtype=rasterio.int32,\n",
        "          count=1,\n",
        "          compress='lzw')\n",
        "\n",
        "      # Write out to the temporary file\n",
        "      with rasterio.open(temp.name, 'w', **profile) as dst:\n",
        "        dst.write(target_data.astype(rasterio.int32), 1)\n",
        "\n",
        "    # Perform zonal statistics on temporary file using the ADM2 shapefile\n",
        "    shp_data = gpd.read_file(shp)\n",
        "    result = {}\n",
        "    for geom in shp_data.itertuples():\n",
        "      result[getattr(geom, colname)] = zonal_stats(geom.geometry,\n",
        "                                                   temp.name,\n",
        "                                                   stats=stats)\n",
        "    \n",
        "    return result\n",
        "\n",
        "\n",
        "def convert_stats_to_df(data, col_name, stat_name):\n",
        "  \"\"\"\n",
        "  data : result from `collect_stats()`\n",
        "  col_name : str, desired name of column in DataFrame\n",
        "  stat_name : str, name of statistic used in `collect_stats()`\n",
        "  \"\"\"\n",
        "  tmp = {k: v[0][stat_name] for (k, v) in data.items()}\n",
        "  res = pd.DataFrame.from_dict(tmp, orient='index', columns=[col_name])\n",
        "  return res"
      ],
      "execution_count": 4,
      "outputs": []
    },
    {
      "cell_type": "markdown",
      "metadata": {
        "id": "qpPrHqn_sAHT"
      },
      "source": [
        "### Load input data: flood hazard (RP100) and population (Landscan 2018)\n",
        "\n",
        "All data already share the same crs (epsg 4326)"
      ]
    },
    {
      "cell_type": "code",
      "metadata": {
        "id": "Gto7NCHCKj6_",
        "trusted": false
      },
      "source": [
        "base_loc = \"rdl-pytools/data/ssudan/\"\n",
        "\n",
        "#pop represents population data\n",
        "with rasterio.open(base_loc+'exp-ss-pop-landscan18.tif') as fp:\n",
        "  pop_data = fp.read(1)\n",
        "\n",
        "  # Get cell size for count of affected area later on\n",
        "  gt = fp.transform\n",
        "  pixelSizeX = gt[0]\n",
        "  pixelSizeY =-gt[4]\n",
        "\n",
        "\n",
        "scale_factor = 0.1\n",
        "with rasterio.open(base_loc+'hzd-ss-fl-rp100.tif') as dataset:\n",
        "  # resample data to population data resolution\n",
        "  data = dataset.read(\n",
        "      out_shape=(\n",
        "          dataset.count,\n",
        "          int(fp.height),\n",
        "          int(fp.width)\n",
        "      ),\n",
        "      resampling=Resampling.bilinear\n",
        "  )\n",
        "\n",
        "  \n",
        "\n",
        "  # scale image transform\n",
        "  transform = dataset.transform * dataset.transform.scale(\n",
        "      (dataset.width / pop_data.shape[-1]),\n",
        "      (dataset.height / pop_data.shape[-2])\n",
        "  )\n",
        "\n",
        "flood_data = data[0, :, :]\n"
      ],
      "execution_count": 5,
      "outputs": []
    },
    {
      "cell_type": "code",
      "metadata": {
        "colab": {
          "base_uri": "https://localhost:8080/"
        },
        "id": "uilCvrlHP6aE",
        "outputId": "6acd29c1-ba0d-4ee8-bca3-3e5f9e325376"
      },
      "source": [
        "pixelSizeX, pixelSizeY"
      ],
      "execution_count": 6,
      "outputs": [
        {
          "output_type": "execute_result",
          "data": {
            "text/plain": [
              "(0.008333333333333333, 0.008333333333333333)"
            ]
          },
          "metadata": {
            "tags": []
          },
          "execution_count": 6
        }
      ]
    },
    {
      "cell_type": "code",
      "metadata": {
        "id": "46FOO1U93muD"
      },
      "source": [
        "flood_extent = gpd.read_file(base_loc+\"hzd-ss-fl-rp100.shp\")"
      ],
      "execution_count": 7,
      "outputs": []
    },
    {
      "cell_type": "code",
      "metadata": {
        "colab": {
          "base_uri": "https://localhost:8080/"
        },
        "id": "b0TNNDWj2sqb",
        "outputId": "5a247ca7-250d-4a16-8c08-e5fce6822420"
      },
      "source": [
        "# Flood resolution and population data resolution should match\r\n",
        "flood_data.shape == pop_data.shape"
      ],
      "execution_count": 8,
      "outputs": [
        {
          "output_type": "execute_result",
          "data": {
            "text/plain": [
              "True"
            ]
          },
          "metadata": {
            "tags": []
          },
          "execution_count": 8
        }
      ]
    },
    {
      "cell_type": "code",
      "metadata": {
        "colab": {
          "base_uri": "https://localhost:8080/"
        },
        "id": "HyjVO1RGPL7X",
        "outputId": "710fbb48-80c5-4830-9254-74c1a6be9b50"
      },
      "source": [
        "flood_data.shape"
      ],
      "execution_count": 9,
      "outputs": [
        {
          "output_type": "execute_result",
          "data": {
            "text/plain": [
              "(1050, 1416)"
            ]
          },
          "metadata": {
            "tags": []
          },
          "execution_count": 9
        }
      ]
    },
    {
      "cell_type": "code",
      "metadata": {
        "id": "y7hDzdK_25zW"
      },
      "source": [
        "#adm represents administrative units\r\n",
        "adm0 = gpd.read_file(base_loc+'SS_ADM0.shp')\r\n",
        "adm1 = gpd.read_file(base_loc+'SS_ADM1.shp')\r\n",
        "adm2 = gpd.read_file(base_loc+'SS_ADM2.shp')"
      ],
      "execution_count": 10,
      "outputs": []
    },
    {
      "cell_type": "markdown",
      "metadata": {
        "id": "aUuIjKwLsAHU"
      },
      "source": [
        "## 1. Flooded area"
      ]
    },
    {
      "cell_type": "code",
      "metadata": {
        "id": "kdTsL9MfMA0C"
      },
      "source": [
        "adm1_flooded_areas = collect_stats(base_loc+'hzd-ss-fl-rp100.tif', base_loc+'SS_ADM1.shp', flood_data, [\"count\"], 'ADM1_PCODE')"
      ],
      "execution_count": 11,
      "outputs": []
    },
    {
      "cell_type": "code",
      "metadata": {
        "id": "TZxbHA8XOKz-"
      },
      "source": [
        "flooded_area_df = convert_stats_to_df(adm1_flooded_areas, 'flooded_area', 'count')\r\n",
        "\r\n",
        "# Convert count of cells into expected spatial resolution in degrees\r\n",
        "flooded_area_df['flooded_area'] *= pixelSizeX*pixelSizeY"
      ],
      "execution_count": 12,
      "outputs": []
    },
    {
      "cell_type": "code",
      "metadata": {
        "colab": {
          "base_uri": "https://localhost:8080/",
          "height": 265
        },
        "id": "FgPIaDeQPekK",
        "outputId": "1748f8a7-f559-47ee-8c9d-e6b895094151"
      },
      "source": [
        "flooded_area_deg = adm1.join(flooded_area_df, on='ADM1_PCODE')\r\n",
        "\r\n",
        "ax = flooded_area_deg.plot(column='flooded_area', alpha=0.5, edgecolor='k')\r\n",
        "ctx.add_basemap(ax, zoom=18)"
      ],
      "execution_count": 13,
      "outputs": [
        {
          "output_type": "display_data",
          "data": {
            "image/png": "[encoded data removed]",
            "text/plain": [
              "<Figure size 432x288 with 1 Axes>"
            ]
          },
          "metadata": {
            "tags": [],
            "needs_background": "light"
          }
        }
      ]
    },
    {
      "cell_type": "markdown",
      "metadata": {
        "id": "o-cJQo9wsAHW"
      },
      "source": [
        "## 2. Flooded population"
      ]
    },
    {
      "cell_type": "markdown",
      "metadata": {
        "id": "P29nPHeBsAHW"
      },
      "source": [
        "### Create flood hazard extent mask using a threshold of 15 cm"
      ]
    },
    {
      "cell_type": "code",
      "metadata": {
        "trusted": true,
        "id": "jNUENvN_sAHW"
      },
      "source": [
        "# Get flooded areas\n",
        "flood_mask = np.where(flood_data > 0.15, 1, 0)"
      ],
      "execution_count": 14,
      "outputs": []
    },
    {
      "cell_type": "code",
      "metadata": {
        "colab": {
          "base_uri": "https://localhost:8080/"
        },
        "id": "lf0lYBI81Jl9",
        "outputId": "beac6c24-8ff4-455b-8446-c3656e82dc1e"
      },
      "source": [
        "# Flood mask should match population data resolution\r\n",
        "flood_mask.shape == pop_data.shape"
      ],
      "execution_count": 15,
      "outputs": [
        {
          "output_type": "execute_result",
          "data": {
            "text/plain": [
              "True"
            ]
          },
          "metadata": {
            "tags": []
          },
          "execution_count": 15
        }
      ]
    },
    {
      "cell_type": "markdown",
      "metadata": {
        "id": "W8FxzJrEsAHW"
      },
      "source": [
        "### Estimate population within hazard extent and plot as map"
      ]
    },
    {
      "cell_type": "code",
      "metadata": {
        "trusted": true,
        "id": "e_hCSbSlsAHW"
      },
      "source": [
        "pop_fd = flood_mask * pop_data"
      ],
      "execution_count": 16,
      "outputs": []
    },
    {
      "cell_type": "code",
      "metadata": {
        "colab": {
          "base_uri": "https://localhost:8080/",
          "height": 282
        },
        "id": "6FnKfWxJ82ja",
        "outputId": "b168818a-48fb-4dd6-8147-747e0a33eea9"
      },
      "source": [
        "adm2.plot()"
      ],
      "execution_count": 17,
      "outputs": [
        {
          "output_type": "execute_result",
          "data": {
            "text/plain": [
              "<AxesSubplot:>"
            ]
          },
          "metadata": {
            "tags": []
          },
          "execution_count": 17
        },
        {
          "output_type": "display_data",
          "data": {
            "image/png": "[encoded data removed]",
            "text/plain": [
              "<Figure size 432x288 with 1 Axes>"
            ]
          },
          "metadata": {
            "tags": [],
            "needs_background": "light"
          }
        }
      ]
    },
    {
      "cell_type": "markdown",
      "metadata": {
        "id": "5QBMAjCkAYdU"
      },
      "source": [
        "Summary for ADM2 level - zonal statistics"
      ]
    },
    {
      "cell_type": "code",
      "metadata": {
        "id": "US5TisSuB0-x"
      },
      "source": [
        "adm1_stats = collect_stats(base_loc+'hzd-ss-fl-rp100.tif', base_loc+'SS_ADM1.shp', pop_fd, stats=\"sum\", colname='ADM1_PCODE')"
      ],
      "execution_count": 18,
      "outputs": []
    },
    {
      "cell_type": "code",
      "metadata": {
        "id": "fqBuVNWfB8hE"
      },
      "source": [
        "adm2_stats = collect_stats(base_loc+'hzd-ss-fl-rp100.tif', base_loc+'SS_ADM2.shp', pop_fd, stats=\"sum\", colname='ADM2_PCODE')"
      ],
      "execution_count": 19,
      "outputs": []
    },
    {
      "cell_type": "code",
      "metadata": {
        "id": "nj8_fF3bIbYD"
      },
      "source": [
        "res_df = convert_stats_to_df(adm1_stats, 'population_sum', 'sum')"
      ],
      "execution_count": 20,
      "outputs": []
    },
    {
      "cell_type": "code",
      "metadata": {
        "id": "PbF5xtgLIlCM"
      },
      "source": [
        "pop_affected_by_flood = adm1.join(res_df, on='ADM1_PCODE')"
      ],
      "execution_count": 21,
      "outputs": []
    },
    {
      "cell_type": "code",
      "metadata": {
        "colab": {
          "base_uri": "https://localhost:8080/",
          "height": 265
        },
        "id": "j26Y5ye9JCf3",
        "outputId": "0d221ff7-0799-4e16-fda1-218100be0b1e"
      },
      "source": [
        "ax = pop_affected_by_flood.plot(column='population_sum', alpha=0.5, edgecolor='k')\r\n",
        "ctx.add_basemap(ax, zoom=18)"
      ],
      "execution_count": 22,
      "outputs": [
        {
          "output_type": "display_data",
          "data": {
            "image/png": "[encoded data removed]",
            "text/plain": [
              "<Figure size 432x288 with 1 Axes>"
            ]
          },
          "metadata": {
            "tags": [],
            "needs_background": "light"
          }
        }
      ]
    },
    {
      "cell_type": "markdown",
      "metadata": {
        "id": "YbzupIpVsAHY"
      },
      "source": [
        "### Export output"
      ]
    },
    {
      "cell_type": "code",
      "metadata": {
        "trusted": false,
        "colab": {
          "base_uri": "https://localhost:8080/"
        },
        "id": "gTg15Za-sAHY",
        "outputId": "7eaccb48-6cbf-4ee1-e2e4-74265d4dba17"
      },
      "source": [
        "pop_affected_by_flood.to_csv(\"pop_flooded_rp100.csv\")\r\n",
        "pop_affected_by_flood.to_file(\"adm1_pop_affected_by_flood.shp\")"
      ],
      "execution_count": 23,
      "outputs": [
        {
          "output_type": "stream",
          "text": [
            "/usr/local/lib/python3.7/dist-packages/ipykernel_launcher.py:2: UserWarning: Column names longer than 10 characters will be truncated when saved to ESRI Shapefile.\n",
            "  \n"
          ],
          "name": "stderr"
        }
      ]
    },
    {
      "cell_type": "code",
      "metadata": {
        "trusted": true,
        "id": "FDSDkC5GsAHZ"
      },
      "source": [
        "# Download files using the menu on left-hand side"
      ],
      "execution_count": 24,
      "outputs": []
    },
    {
      "cell_type": "code",
      "metadata": {
        "id": "LqxzTh5kKsJ7"
      },
      "source": [
        ""
      ],
      "execution_count": 24,
      "outputs": []
    }
  ]
}